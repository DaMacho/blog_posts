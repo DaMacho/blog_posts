{
 "cells": [
  {
   "cell_type": "markdown",
   "metadata": {},
   "source": [
    "# Study Summary"
   ]
  },
  {
   "cell_type": "markdown",
   "metadata": {},
   "source": [
    "# 01장 철학과 개념"
   ]
  },
  {
   "cell_type": "markdown",
   "metadata": {},
   "source": [
    "## Chapter 01 - Pythonic & Concept (1)"
   ]
  },
  {
   "cell_type": "markdown",
   "metadata": {},
   "source": [
    "**파이썬답게 코딩하기 (프로그래밍 언어의 개념과 흐름에 대한 고찰), 심경섭 저**\n",
    "> 스터디 발표를 위한 정리 자료.   \n",
    "> 봐도 모르겠으면, 나중에 꼭 책으로 다시 읽을 것!"
   ]
  },
  {
   "cell_type": "markdown",
   "metadata": {},
   "source": [
    "## Pythonic"
   ]
  },
  {
   "cell_type": "markdown",
   "metadata": {},
   "source": [
    "**Pythonic이란?** - 파이썬을 파이썬답게 사용하기 위한 세부지침(?) (ex. PEP 8)   "
   ]
  },
  {
   "cell_type": "markdown",
   "metadata": {},
   "source": [
    "Pythonic의 지향점은,    \n",
    "프로그래밍 언어를, 글을 읽거나 쓰는 것처럼 자연스럽게 만드는 것,   \n",
    "영어로 된 글을 쓴다는 느낌으로 코드를 작성하는 것이 아닐까?   \n",
    "라고 저자 말하심."
   ]
  },
  {
   "cell_type": "markdown",
   "metadata": {},
   "source": [
    "## 변수 (variable)"
   ]
  },
  {
   "cell_type": "markdown",
   "metadata": {},
   "source": [
    "변수: 메모리에 어떤 값을 가리키고 있는 이름. => 메모리에 있는 어떤 값에 이름을 붙여 내가 쉽게 사용하게 하는 것."
   ]
  },
  {
   "cell_type": "markdown",
   "metadata": {},
   "source": [
    "변수의 lifetime: 선언 - 할당 - 소멸."
   ]
  },
  {
   "cell_type": "markdown",
   "metadata": {},
   "source": [
    "파이썬에서 변수의 선언과 할당은 **=** 연산자를 통해 단번에 일어난다."
   ]
  },
  {
   "cell_type": "markdown",
   "metadata": {},
   "source": [
    "### Scope"
   ]
  },
  {
   "cell_type": "markdown",
   "metadata": {},
   "source": [
    "**Scope란** - 변수의 유효 범위, (변수가 거주가능한 구역?).   \n",
    "파이썬에서는 그 범위가 **네임스페이스(namespace)**를 기반으로 계산된다."
   ]
  },
  {
   "cell_type": "markdown",
   "metadata": {},
   "source": [
    "파이썬의 네임스페이스는 **local, enclosed, global, built-in** 으로 나눌 수 있다.   \n",
    "- **local** 변수는 지역적인 네임스페이스로 클래스나 함수의 내부로 한정된다.\n",
    "- **enclosed** 변수는 함수 안에 함수가 있는 구조, 즉 외부 함수가 있고 내부 함수가 있는 구조에서    \n",
    "내부 함수가 외부 함수의 변수에 접근할 수 있는 것을 의미한다. ('Nested Function' 참고)\n",
    "- **global** 변수는 전역적으로 사용이 가능한 네임스페이스로 파일 단위의 모듈 안에서 유효하다.    \n",
    "특정 모듈을 import하는 경우 import한 모듈의 global 변수도 사용이 가능하다.\n",
    "- **built-in** 변수는 파이썬에 내장되어 있는 네임스페이스로 파이썬으로 작성된 코드 어디에서나 사용할 수 있다."
   ]
  },
  {
   "cell_type": "markdown",
   "metadata": {},
   "source": [
    "변수를 확인할 때도 위 순서대로 LEGB 확인하는 것이 바람직하다.   \n",
    "예시 1-1)"
   ]
  },
  {
   "cell_type": "code",
   "execution_count": 1,
   "metadata": {},
   "outputs": [
    {
     "name": "stdout",
     "output_type": "stream",
     "text": [
      "=== firtst read ===\n",
      "Hello\n",
      "What\n",
      "=== second read ===\n"
     ]
    },
    {
     "ename": "UnboundLocalError",
     "evalue": "local variable 'msg' referenced before assignment",
     "output_type": "error",
     "traceback": [
      "\u001b[1;31m---------------------------------------------------------------------------\u001b[0m",
      "\u001b[1;31mUnboundLocalError\u001b[0m                         Traceback (most recent call last)",
      "\u001b[1;32m<ipython-input-1-9e0f1d219803>\u001b[0m in \u001b[0;36m<module>\u001b[1;34m()\u001b[0m\n\u001b[0;32m     17\u001b[0m     \u001b[0mread_exception\u001b[0m\u001b[1;33m(\u001b[0m\u001b[1;33m)\u001b[0m\u001b[1;33m\u001b[0m\u001b[0m\n\u001b[0;32m     18\u001b[0m \u001b[1;33m\u001b[0m\u001b[0m\n\u001b[1;32m---> 19\u001b[1;33m \u001b[0mmain\u001b[0m\u001b[1;33m(\u001b[0m\u001b[1;33m)\u001b[0m\u001b[1;33m\u001b[0m\u001b[0m\n\u001b[0m",
      "\u001b[1;32m<ipython-input-1-9e0f1d219803>\u001b[0m in \u001b[0;36mmain\u001b[1;34m()\u001b[0m\n\u001b[0;32m     15\u001b[0m \u001b[1;33m\u001b[0m\u001b[0m\n\u001b[0;32m     16\u001b[0m     \u001b[0mprint\u001b[0m\u001b[1;33m(\u001b[0m\u001b[1;34m\"=== second read ===\"\u001b[0m\u001b[1;33m)\u001b[0m\u001b[1;33m\u001b[0m\u001b[0m\n\u001b[1;32m---> 17\u001b[1;33m     \u001b[0mread_exception\u001b[0m\u001b[1;33m(\u001b[0m\u001b[1;33m)\u001b[0m\u001b[1;33m\u001b[0m\u001b[0m\n\u001b[0m\u001b[0;32m     18\u001b[0m \u001b[1;33m\u001b[0m\u001b[0m\n\u001b[0;32m     19\u001b[0m \u001b[0mmain\u001b[0m\u001b[1;33m(\u001b[0m\u001b[1;33m)\u001b[0m\u001b[1;33m\u001b[0m\u001b[0m\n",
      "\u001b[1;32m<ipython-input-1-9e0f1d219803>\u001b[0m in \u001b[0;36mread_exception\u001b[1;34m()\u001b[0m\n\u001b[0;32m      6\u001b[0m \u001b[1;33m\u001b[0m\u001b[0m\n\u001b[0;32m      7\u001b[0m \u001b[1;32mdef\u001b[0m \u001b[0mread_exception\u001b[0m\u001b[1;33m(\u001b[0m\u001b[1;33m)\u001b[0m\u001b[1;33m:\u001b[0m\u001b[1;33m\u001b[0m\u001b[0m\n\u001b[1;32m----> 8\u001b[1;33m     \u001b[0mprint\u001b[0m\u001b[1;33m(\u001b[0m\u001b[0mmsg\u001b[0m\u001b[1;33m)\u001b[0m\u001b[1;33m\u001b[0m\u001b[0m\n\u001b[0m\u001b[0;32m      9\u001b[0m     \u001b[0mmsg\u001b[0m \u001b[1;33m=\u001b[0m \u001b[1;34m\"What\"\u001b[0m\u001b[1;33m\u001b[0m\u001b[0m\n\u001b[0;32m     10\u001b[0m     \u001b[0mprint\u001b[0m\u001b[1;33m(\u001b[0m\u001b[0mmsg\u001b[0m\u001b[1;33m)\u001b[0m\u001b[1;33m\u001b[0m\u001b[0m\n",
      "\u001b[1;31mUnboundLocalError\u001b[0m: local variable 'msg' referenced before assignment"
     ]
    }
   ],
   "source": [
    "msg = \"Hello\"\n",
    "\n",
    "def read_work():\n",
    "    print(msg)\n",
    "    print(\"What\")\n",
    "    \n",
    "def read_exception():\n",
    "    print(msg)\n",
    "    msg = \"What\"\n",
    "    print(msg)\n",
    "    \n",
    "def main():\n",
    "    print(\"=== firtst read ===\")\n",
    "    read_work()\n",
    "    \n",
    "    print(\"=== second read ===\")\n",
    "    read_exception()\n",
    "    \n",
    "main()"
   ]
  },
  {
   "cell_type": "markdown",
   "metadata": {},
   "source": [
    "#### 왜 Error?   \n",
    "- 9번째 줄에서 사용된 msg 변수 때문.   \n",
    "9번째 줄에서 전역변수 msg의 값을 변경한 것이 아닌, 지역변수 msg를 선언.   \n",
    "8번째 줄에서 지역변수 msg의 print()수행이 변수의 선언보다 먼저 일어났다고 판단하여 오류 발생.   \n",
    "파이썬이 변수 msg를 전역변수가 아닌 지역변수로 판단한 것."
   ]
  },
  {
   "cell_type": "markdown",
   "metadata": {},
   "source": [
    "### Global"
   ]
  },
  {
   "cell_type": "markdown",
   "metadata": {},
   "source": [
    "**global** 키워드는 지역(?)에서 전역 변수를 사용할 수 있게 해준다. (지역구에서 전국구 형님을 부를 수 있다!)"
   ]
  },
  {
   "cell_type": "code",
   "execution_count": 2,
   "metadata": {},
   "outputs": [
    {
     "name": "stdout",
     "output_type": "stream",
     "text": [
      "=== firtst read ===\n",
      "Hello\n",
      "What\n",
      "=== second read ===\n",
      "Hello\n",
      "What\n"
     ]
    }
   ],
   "source": [
    "msg = \"Hello\"\n",
    "\n",
    "def read_work():\n",
    "    print(msg)\n",
    "    print(\"What\")\n",
    "    \n",
    "def read_exception():\n",
    "    global msg\n",
    "    print(msg)\n",
    "    msg = \"What\"\n",
    "    print(msg)\n",
    "    \n",
    "def main():\n",
    "    print(\"=== firtst read ===\")\n",
    "    read_work()\n",
    "    \n",
    "    print(\"=== second read ===\")\n",
    "    read_exception()\n",
    "    \n",
    "main()"
   ]
  },
  {
   "cell_type": "markdown",
   "metadata": {},
   "source": [
    "### Nonlocal"
   ]
  },
  {
   "cell_type": "markdown",
   "metadata": {},
   "source": [
    "**nonlocal** 키워드는 'Nested function'(중첩함수, 함수가 중첩되어 있는 것)에서 상위 함수의 변수를 사용할 수 있게 해준다."
   ]
  },
  {
   "cell_type": "code",
   "execution_count": 8,
   "metadata": {},
   "outputs": [
    {
     "name": "stdout",
     "output_type": "stream",
     "text": [
      "Hello Python\n"
     ]
    }
   ],
   "source": [
    "def greeting(name):\n",
    "    greeting_msg = \"Hello \"\n",
    "    \n",
    "    def add_name():\n",
    "        return f'{greeting_msg}{name}'\n",
    "    \n",
    "    msg = add_name()\n",
    "    print(msg)\n",
    "    \n",
    "\n",
    "greeting(\"Python\")"
   ]
  },
  {
   "cell_type": "code",
   "execution_count": 9,
   "metadata": {},
   "outputs": [
    {
     "ename": "UnboundLocalError",
     "evalue": "local variable 'greeting_msg' referenced before assignment",
     "output_type": "error",
     "traceback": [
      "\u001b[1;31m---------------------------------------------------------------------------\u001b[0m",
      "\u001b[1;31mUnboundLocalError\u001b[0m                         Traceback (most recent call last)",
      "\u001b[1;32m<ipython-input-9-04619847a977>\u001b[0m in \u001b[0;36m<module>\u001b[1;34m()\u001b[0m\n\u001b[0;32m     10\u001b[0m \u001b[1;33m\u001b[0m\u001b[0m\n\u001b[0;32m     11\u001b[0m \u001b[1;33m\u001b[0m\u001b[0m\n\u001b[1;32m---> 12\u001b[1;33m \u001b[0mgreeting\u001b[0m\u001b[1;33m(\u001b[0m\u001b[1;34m\"Python\"\u001b[0m\u001b[1;33m)\u001b[0m\u001b[1;33m\u001b[0m\u001b[0m\n\u001b[0m",
      "\u001b[1;32m<ipython-input-9-04619847a977>\u001b[0m in \u001b[0;36mgreeting\u001b[1;34m(name)\u001b[0m\n\u001b[0;32m      6\u001b[0m         \u001b[1;32mreturn\u001b[0m \u001b[1;34mf'{greeting_msg}{name}'\u001b[0m\u001b[1;33m\u001b[0m\u001b[0m\n\u001b[0;32m      7\u001b[0m \u001b[1;33m\u001b[0m\u001b[0m\n\u001b[1;32m----> 8\u001b[1;33m     \u001b[0mmsg\u001b[0m \u001b[1;33m=\u001b[0m \u001b[0madd_name\u001b[0m\u001b[1;33m(\u001b[0m\u001b[1;33m)\u001b[0m\u001b[1;33m\u001b[0m\u001b[0m\n\u001b[0m\u001b[0;32m      9\u001b[0m     \u001b[0mprint\u001b[0m\u001b[1;33m(\u001b[0m\u001b[0mmsg\u001b[0m\u001b[1;33m)\u001b[0m\u001b[1;33m\u001b[0m\u001b[0m\n\u001b[0;32m     10\u001b[0m \u001b[1;33m\u001b[0m\u001b[0m\n",
      "\u001b[1;32m<ipython-input-9-04619847a977>\u001b[0m in \u001b[0;36madd_name\u001b[1;34m()\u001b[0m\n\u001b[0;32m      3\u001b[0m \u001b[1;33m\u001b[0m\u001b[0m\n\u001b[0;32m      4\u001b[0m     \u001b[1;32mdef\u001b[0m \u001b[0madd_name\u001b[0m\u001b[1;33m(\u001b[0m\u001b[1;33m)\u001b[0m\u001b[1;33m:\u001b[0m\u001b[1;33m\u001b[0m\u001b[0m\n\u001b[1;32m----> 5\u001b[1;33m         \u001b[0mgreeting_msg\u001b[0m \u001b[1;33m+=\u001b[0m \u001b[1;34m\" \"\u001b[0m\u001b[1;33m\u001b[0m\u001b[0m\n\u001b[0m\u001b[0;32m      6\u001b[0m         \u001b[1;32mreturn\u001b[0m \u001b[1;34mf'{greeting_msg}{name}'\u001b[0m\u001b[1;33m\u001b[0m\u001b[0m\n\u001b[0;32m      7\u001b[0m \u001b[1;33m\u001b[0m\u001b[0m\n",
      "\u001b[1;31mUnboundLocalError\u001b[0m: local variable 'greeting_msg' referenced before assignment"
     ]
    }
   ],
   "source": [
    "def greeting(name):\n",
    "    greeting_msg = \"Hello\"\n",
    "    \n",
    "    def add_name():\n",
    "        greeting_msg += \" \"\n",
    "        return f'{greeting_msg}{name}'\n",
    "    \n",
    "    msg = add_name()\n",
    "    print(msg)\n",
    "    \n",
    "\n",
    "greeting(\"Python\")"
   ]
  },
  {
   "cell_type": "code",
   "execution_count": 10,
   "metadata": {},
   "outputs": [
    {
     "name": "stdout",
     "output_type": "stream",
     "text": [
      "Hello Python\n"
     ]
    }
   ],
   "source": [
    "def greeting(name):\n",
    "    greeting_msg = \"Hello\"\n",
    "    \n",
    "    def add_name():\n",
    "        nonlocal greeting_msg\n",
    "        greeting_msg += \" \"\n",
    "        return f'{greeting_msg}{name}'\n",
    "    \n",
    "    msg = add_name()\n",
    "    print(msg)\n",
    "    \n",
    "\n",
    "greeting(\"Python\")"
   ]
  },
  {
   "cell_type": "markdown",
   "metadata": {},
   "source": [
    "### Variable Shadowing"
   ]
  },
  {
   "cell_type": "markdown",
   "metadata": {},
   "source": [
    "\\- 전역 변수나 상위 변수를 지역 변수나 멤버 변수로 가려(숨겨)버리는 것."
   ]
  },
  {
   "cell_type": "code",
   "execution_count": 11,
   "metadata": {},
   "outputs": [
    {
     "name": "stdout",
     "output_type": "stream",
     "text": [
      "Scope of inner_function: inner\n",
      "Scope of outer_function: outer\n",
      "Global scope: global\n"
     ]
    }
   ],
   "source": [
    "var_shadowing = \"global\"\n",
    "\n",
    "def outer_function():\n",
    "    var_shadowing = \"outer\"\n",
    "    \n",
    "    def inner_function():\n",
    "        var_shadowing = \"inner\"\n",
    "        print(f'Scope of inner_function: {var_shadowing}')\n",
    "        \n",
    "    inner_function()\n",
    "    print(f'Scope of outer_function: {var_shadowing}')\n",
    "    \n",
    "    \n",
    "if __name__ == \"__main__\":\n",
    "    outer_function()\n",
    "    print(f'Global scope: {var_shadowing}')"
   ]
  },
  {
   "cell_type": "markdown",
   "metadata": {},
   "source": [
    "### Free variable"
   ]
  },
  {
   "cell_type": "markdown",
   "metadata": {},
   "source": [
    "**Free variable**이란 코드에서 사용됐지만 정의되지 않은 변수를 나타내는 용어이다.   \n",
    "=> 함수 내부에서 사용됐지만 함수 내에는 정의되어 있지 않은 변수.   \n",
    "   \n",
    "파이썬에서는 **nonlocal** 키워드로 사용한 변수를 free variable 이라고 지칭할 수 있다.   \n",
    "지역변수도 아니고 전역변수도 아니지만, 사용할 수 있는 변수를 말한다."
   ]
  },
  {
   "cell_type": "markdown",
   "metadata": {},
   "source": [
    "<br>"
   ]
  },
  {
   "cell_type": "markdown",
   "metadata": {},
   "source": [
    "## First-Class"
   ]
  },
  {
   "cell_type": "markdown",
   "metadata": {},
   "source": [
    "**First-Class**는 파이썬에서 사용하는 여러 기술을 이해하기 위한 가장 기본적인 개념.   \n",
    "파이썬은 **first-class 속성**을 가진 **first-class 함수**를 지원하기 때문에 함수를 인자로 넘기거나 클로저(closure)를 사용할 수 있다.   \n",
    "\\- 클로저는 nested function의 일종으로 후에 다시 다룰 예정."
   ]
  },
  {
   "cell_type": "markdown",
   "metadata": {},
   "source": [
    "### First-Class Citizen"
   ]
  },
  {
   "cell_type": "markdown",
   "metadata": {},
   "source": [
    "**First-Class Citizen**, 이 **<u>속성</u>**을 가진 어떤 개체는,   \n",
    "다른 개체의 매개변수로 전달되거나, 함수의 반환값으로 사용되거나, 변수에 값으로 할당될 수 있다.   \n",
    "여기서 '개체'란 자료형 또는 함수 또는 클래스가 될 수 있다.   "
   ]
  },
  {
   "cell_type": "markdown",
   "metadata": {},
   "source": [
    "예시)   \n",
    "자료형 중, 스칼라(scalar) 형식의 자료형(integer, floating-point)들은 거의 다 first-class citizen.    \n",
    "변수에 할당은 물론, 매개변수 또는 반환값으로 사용가능.   \n",
    "   \n",
    "array나 string은 **프로그래밍 언어에 따라 다르다.**   \n",
    "파이썬에서는 first-class citizen이지만,    \n",
    "C언어에서 array가 전달될 때 그 자체가 아닌 array의 첫번째 원소의 주소값이 전달된다.   \n",
    "다시 말하면, array 그 자체로 매개변수나 함수의 반환값으로 사용될 수 없다."
   ]
  },
  {
   "cell_type": "markdown",
   "metadata": {},
   "source": [
    "**요약) 개체, 즉 자료형이나 함수 등이 그 자체로 매개변수로 전달되거나 반환값으로 사용될 수 있으면 그 개체는 first-class citizen 속성을 가지고 있다.**"
   ]
  },
  {
   "cell_type": "markdown",
   "metadata": {},
   "source": [
    "### First-Class Function"
   ]
  },
  {
   "cell_type": "markdown",
   "metadata": {},
   "source": [
    "first-class citizen 속성을 가진 함수.   \n",
    "즉, 변수에 함수를 할당할 수 있고, 매개변수로 함수를 전달할 수 있고, 반환값으로 함수를 사용할 수 있다.   \n",
    "   \n",
    "이 속성을 통해 여러 가지 기술이 탄생했다.   \n",
    "클로저(Closure)나 데코레이터(decorator)가 대표적이다. (후술 예정)"
   ]
  },
  {
   "cell_type": "code",
   "execution_count": 13,
   "metadata": {},
   "outputs": [
    {
     "name": "stdout",
     "output_type": "stream",
     "text": [
      "Function call\n",
      "100\n",
      "\n",
      "Assign variable\n",
      "100\n"
     ]
    }
   ],
   "source": [
    "# first_class_function_variable\n",
    "'''\n",
    "함수를 변수에 저장하고, \n",
    "그 변수를 함수처럼 사용하여 호출하는 예제.\n",
    "'''\n",
    "\n",
    "def square(x):\n",
    "    return x*x\n",
    "\n",
    "def main():\n",
    "    print(\"Function call\")\n",
    "    print(square(10))\n",
    "    print()\n",
    "    \n",
    "    print(\"Assign variable\")\n",
    "    f = square\n",
    "    print(f(10))\n",
    "    \n",
    "    \n",
    "if __name__ == \"__main__\":\n",
    "    main()"
   ]
  },
  {
   "cell_type": "code",
   "execution_count": 10,
   "metadata": {},
   "outputs": [
    {
     "name": "stdout",
     "output_type": "stream",
     "text": [
      "Set argument\n",
      "5 \n",
      "\n",
      "Assign variable & send parameter\n",
      "25\n"
     ]
    }
   ],
   "source": [
    "# first_class_function_parameter\n",
    "'''\n",
    "함수를 하나의 개체로 보고,\n",
    "매개변수로 전달하고, \n",
    "반환값으로 사용함.\n",
    "'''\n",
    "\n",
    "def square(x):\n",
    "    return x*x\n",
    "\n",
    "def bind(func, arg):\n",
    "    return func(arg)\n",
    "\n",
    "def main():\n",
    "    print(\"Set argument\")\n",
    "    arg = 5\n",
    "    print(f'{arg} \\n')\n",
    "    \n",
    "    print(\"Assign variable & send parameter\")\n",
    "    squares = bind(square, arg)\n",
    "    print(squares)\n",
    "    \n",
    "    \n",
    "if __name__ == \"__main__\":\n",
    "    main()"
   ]
  },
  {
   "cell_type": "markdown",
   "metadata": {},
   "source": [
    "## Higher-Order Function"
   ]
  },
  {
   "cell_type": "markdown",
   "metadata": {},
   "source": [
    "**Higher-Order function**은 first-class function과 유사한 개념이다.   \n",
    "함수가 매개변수로 전달되거나, 또는 함수를 반환값으로 사용하는 함수를 higher-order function이라고 한다.    \n",
    "둘 중 하나만 성립해도 higher-order function이다."
   ]
  },
  {
   "cell_type": "code",
   "execution_count": 14,
   "metadata": {},
   "outputs": [
    {
     "name": "stdout",
     "output_type": "stream",
     "text": [
      "===print result===\n",
      "['min', 'yong', 'hun']\n",
      "['MIN', 'YONG', 'HUN']\n"
     ]
    }
   ],
   "source": [
    "# upper_case\n",
    "'''\n",
    "이 예제에서는 함수가 매개변수나 반환값으로 사용되지 않았다.\n",
    "이 예제에 higher-order function을 적용해본다면?\n",
    "'''\n",
    "\n",
    "LOWER_LIST = [\"min\", \"yong\", \"hun\"]\n",
    "UPPER_LIST = []\n",
    "\n",
    "def convert():\n",
    "    for data in LOWER_LIST:\n",
    "        UPPER_LIST.append(data.upper())\n",
    "        \n",
    "def main():\n",
    "    print(\"===print result===\")\n",
    "    convert()\n",
    "    print(LOWER_LIST)\n",
    "    print(UPPER_LIST)\n",
    "    \n",
    "\n",
    "if __name__ == \"__main__\":\n",
    "    main()"
   ]
  },
  {
   "cell_type": "code",
   "execution_count": 40,
   "metadata": {},
   "outputs": [
    {
     "name": "stdout",
     "output_type": "stream",
     "text": [
      "===print result===\n",
      "['min', 'yong', 'hun']\n",
      "['MIN', 'YONG', 'HUN']\n",
      "\n",
      "===variable UPPER_LIST===\n",
      "<map object at 0x000002AA778ACE10>\n"
     ]
    }
   ],
   "source": [
    "# brief_upper_case\n",
    "''' '''\n",
    "\n",
    "LOWER_LIST = [\"min\", \"yong\", \"hun\"]\n",
    "UPPER_LIST = []\n",
    "\n",
    "def convert(data):\n",
    "    return data.upper()\n",
    "        \n",
    "def main():\n",
    "    print(\"===print result===\")\n",
    "    UPPER_LIST = map(convert, LOWER_LIST)\n",
    "    print(LOWER_LIST)\n",
    "    print(list(UPPER_LIST))\n",
    "    print()\n",
    "    print(\"===variable UPPER_LIST===\")\n",
    "    print(UPPER_LIST)\n",
    "    \n",
    "\n",
    "if __name__ == \"__main__\":\n",
    "    main()"
   ]
  },
  {
   "cell_type": "code",
   "execution_count": 31,
   "metadata": {},
   "outputs": [
    {
     "name": "stdout",
     "output_type": "stream",
     "text": [
      "b\n",
      "<built-in method upper of str object at 0x000002AA7354F960>\n",
      "B\n"
     ]
    }
   ],
   "source": [
    "arg = \"b\"\n",
    "b = arg.upper\n",
    "b_ = arg.upper()\n",
    "\n",
    "print(arg)\n",
    "print(b)\n",
    "print(b_)"
   ]
  },
  {
   "cell_type": "code",
   "execution_count": 41,
   "metadata": {},
   "outputs": [
    {
     "name": "stdout",
     "output_type": "stream",
     "text": [
      "===advanced form===\n",
      "['MIN', 'YONG', 'HUN']\n"
     ]
    }
   ],
   "source": [
    "advanced = list(map(lambda data: data.upper(), LOWER_LIST))\n",
    "\n",
    "print(\"===advanced form===\")\n",
    "print(advanced)"
   ]
  },
  {
   "cell_type": "markdown",
   "metadata": {},
   "source": [
    "## Nested function"
   ]
  },
  {
   "cell_type": "markdown",
   "metadata": {},
   "source": [
    "**중첩함수(Nested function)**는 함수로 감싸인 함수를 뜻한다. 쉽게 말하면 함수 안에 정의된 함수이다. 외부함수를 'Outer function', 내부함수를 'Inner function'이라고 표현한다."
   ]
  },
  {
   "cell_type": "markdown",
   "metadata": {},
   "source": [
    "중첩함수는 단순히 하나의 함수안에 정의된 또 다른 하나의 함수뿐 아니라, 여러 개의 함수를 중첩한 형태로도 표현될 수 있다. 이때 각각의 내부함수들은 **scope chain**에 의해 자신을 감싸고 있는 외부함수의 메모리에 접근이 가능하다."
   ]
  },
  {
   "cell_type": "markdown",
   "metadata": {},
   "source": [
    "외부함수의 메모리에 접근이 가능하다는 것은 외부함수가 가지고 있는 변수나 매개변수 등에 접근할 수 있고 사용할 수 있다는 뜻이다. 정확히는, 외부함수의 메모리를 복사해서 가지고 있다.    \n",
    "앞서 설명한 **네임스페이스의 LEGB 규칙** 중에서 **enclosed**에 해당하는 내용이다."
   ]
  },
  {
   "cell_type": "markdown",
   "metadata": {},
   "source": [
    "내부함수를 사용하면 외부함수의 자원을 이용할 수 있는 장점이 있다. 그래서 같은 매개변수를 사용하거나, 연관된 기능을 하는 함수들을 하나의 외부함수에 묶어서 사용하기도 한다. 이때 유의점은, 외부에서 내부함수로 접근할 수 없다는 점이다."
   ]
  },
  {
   "cell_type": "markdown",
   "metadata": {},
   "source": [
    "즉, 외부에서 내부함수를 직접 호출할 수 없다는 것이다. 내부함수가 외부함수 안에 감싸여 정의되어 있기 때문에 파이썬은 외부함수 단에서 내부함수의 존재를 알지 못한다.   \n",
    "그래서 내부함수가 실행되기 위해, 먼저 외부함수를 호출하고 함수 내 로직에 따라 내부함수가 호출되어야한다."
   ]
  },
  {
   "cell_type": "code",
   "execution_count": 1,
   "metadata": {},
   "outputs": [
    {
     "name": "stdout",
     "output_type": "stream",
     "text": [
      "=== print calculation ===\n",
      "(15, 5)\n"
     ]
    }
   ],
   "source": [
    "# calculator_1\n",
    "'''중첩함수 예제, \n",
    "내부함수를 사용하여, 외부함수의 매개변수 사용'''\n",
    "\n",
    "def calculator(x, y):   # 외부함수\n",
    "    \n",
    "    def add():   # 내부함수\n",
    "        return x+y\n",
    "    \n",
    "    def sub():   # 내부함수\n",
    "        return x-y\n",
    "    \n",
    "    return (add(), sub())\n",
    "\n",
    "\n",
    "if __name__ == \"__main__\":\n",
    "    print(\"=== print calculation ===\")\n",
    "    print(calculator(10, 5))"
   ]
  },
  {
   "cell_type": "code",
   "execution_count": 2,
   "metadata": {},
   "outputs": [
    {
     "name": "stdout",
     "output_type": "stream",
     "text": [
      "=== print calculation ===\n",
      "15\n",
      "20\n"
     ]
    }
   ],
   "source": [
    "# calculator_2\n",
    "'''\n",
    "중첩함수 예제,\n",
    "외부함수와 내부함수가 각각 매개변수를 받고,\n",
    "외부함수는 내부함수를 반환값으로 사용함.\n",
    "'''\n",
    "\n",
    "def calculator(x):\n",
    "    \n",
    "    def add(y):\n",
    "        return x+y\n",
    "    \n",
    "    return add\n",
    "\n",
    "\n",
    "if __name__ == \"__main__\":\n",
    "    print(\"=== print calculation ===\")\n",
    "    f = calculator(10)   # 변수 f에 매개변수와 함께 외부함수를 할당.\n",
    "    print(f(5))   #변수 f에 매개변수를 주고 실행.\n",
    "    print(f(10))"
   ]
  },
  {
   "cell_type": "markdown",
   "metadata": {},
   "source": [
    "**변수 f**에 **외부함수(calculator())를 할당**할때 **외부함수의 매개변수** 10을 x로 할당함.   \n",
    "**변수 f**에는 **외부함수의 반환값**인 **함수 add()**가 할당됐다.   \n",
    "**변수 f를 실행**할때, **매개변수로 전달한 값**은 함수 add(), 즉 **내부함수의 매개변수** y로 전달 됨."
   ]
  },
  {
   "cell_type": "markdown",
   "metadata": {},
   "source": [
    "중첩함수 중, 위 두번째 예제와 같은 것을 **클로저(Closure)**라 부른다."
   ]
  }
 ],
 "metadata": {
  "kernelspec": {
   "display_name": "Python 3",
   "language": "python",
   "name": "python3"
  },
  "language_info": {
   "codemirror_mode": {
    "name": "ipython",
    "version": 3
   },
   "file_extension": ".py",
   "mimetype": "text/x-python",
   "name": "python",
   "nbconvert_exporter": "python",
   "pygments_lexer": "ipython3",
   "version": "3.6.6"
  }
 },
 "nbformat": 4,
 "nbformat_minor": 2
}
