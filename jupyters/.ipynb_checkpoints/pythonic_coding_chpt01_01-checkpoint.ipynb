{
 "cells": [
  {
   "cell_type": "markdown",
   "metadata": {},
   "source": [
    "# Study Summary"
   ]
  },
  {
   "cell_type": "markdown",
   "metadata": {},
   "source": [
    "# 01장 철학과 개념"
   ]
  },
  {
   "cell_type": "markdown",
   "metadata": {},
   "source": [
    "## Chapter 01 - Pythonic & Concept"
   ]
  },
  {
   "cell_type": "markdown",
   "metadata": {},
   "source": [
    "**파이썬답게 코딩하기 (프로그래밍 언어의 개념과 흐름에 대한 고찰), 심경섭 저**\n",
    "> 스터디 발표를 위한 정리 자료.   \n",
    "> 봐도 모르겠으면, 나중에 꼭 책으로 다시 읽을 것!"
   ]
  },
  {
   "cell_type": "markdown",
   "metadata": {},
   "source": [
    "## Pythonic"
   ]
  },
  {
   "cell_type": "markdown",
   "metadata": {},
   "source": [
    "**Pythonic이란?** - 파이썬을 파이썬답게 사용하기 위한 세부지침(?) (ex. PEP 8)   "
   ]
  },
  {
   "cell_type": "markdown",
   "metadata": {},
   "source": [
    "Pythonic의 지향점은,    \n",
    "프로그래밍 언어를, 글을 읽거나 쓰는 것처럼 자연스럽게 만드는 것,   \n",
    "영어로 된 글을 쓴다는 느낌으로 코드를 작성하는 것이 아닐까?   \n",
    "라고 저자 말하심."
   ]
  },
  {
   "cell_type": "markdown",
   "metadata": {},
   "source": [
    "## 변수 (variable)"
   ]
  },
  {
   "cell_type": "markdown",
   "metadata": {},
   "source": [
    "변수: 메모리에 어떤 값을 가리키고 있는 이름. => 메모리에 있는 어떤 값에 이름을 붙여 내가 쉽게 사용하게 하는 것."
   ]
  },
  {
   "cell_type": "markdown",
   "metadata": {},
   "source": [
    "변수의 lifetime: 선언 - 할당 - 소멸."
   ]
  },
  {
   "cell_type": "markdown",
   "metadata": {},
   "source": [
    "파이썬에서 변수의 선언과 할당은 **=** 연산자를 통해 단번에 일어난다."
   ]
  },
  {
   "cell_type": "markdown",
   "metadata": {},
   "source": [
    "### Scope"
   ]
  },
  {
   "cell_type": "markdown",
   "metadata": {},
   "source": [
    "**Scope란** - 변수의 유효 범위, (변수가 거주가능한 구역?).   \n",
    "파이썬에서는 그 범위가 **네임스페이스(namespace)**를 기반으로 계산된다."
   ]
  },
  {
   "cell_type": "markdown",
   "metadata": {},
   "source": [
    "파이썬의 네임스페이스는 **local, enclosed, global, built-in** 으로 나눌 수 있다.   \n",
    "- **local** 변수는 지역적인 네임스페이스로 클래스나 함수의 내부로 한정된다.\n",
    "- **enclosed** 변수는 함수 안에 함수가 있는 구조, 즉 외부 함수가 있고 내부 함수가 있는 구조에서    \n",
    "내부 함수가 외부 함수의 변수에 접근할 수 있는 것을 의미한다. ('Nested Function' 참고)\n",
    "- **global** 변수는 전역적으로 사용이 가능한 네임스페이스로 파일 단위의 모듈 안에서 유효하다.    \n",
    "특정 모듈을 import하는 경우 import한 모듈의 global 변수도 사용이 가능하다.\n",
    "- **built-in** 변수는 파이썬에 내장되어 있는 네임스페이스로 파이썬으로 작성된 코드 어디에서나 사용할 수 있다."
   ]
  },
  {
   "cell_type": "markdown",
   "metadata": {},
   "source": [
    "변수를 확인할 때도 위 순서대로 LEGB 확인하는 것이 바람직하다.   \n",
    "예시 1-1)"
   ]
  },
  {
   "cell_type": "code",
   "execution_count": 1,
   "metadata": {},
   "outputs": [
    {
     "name": "stdout",
     "output_type": "stream",
     "text": [
      "=== firtst read ===\n",
      "Hello\n",
      "What\n",
      "=== second read ===\n"
     ]
    },
    {
     "ename": "UnboundLocalError",
     "evalue": "local variable 'msg' referenced before assignment",
     "output_type": "error",
     "traceback": [
      "\u001b[1;31m---------------------------------------------------------------------------\u001b[0m",
      "\u001b[1;31mUnboundLocalError\u001b[0m                         Traceback (most recent call last)",
      "\u001b[1;32m<ipython-input-1-9e0f1d219803>\u001b[0m in \u001b[0;36m<module>\u001b[1;34m()\u001b[0m\n\u001b[0;32m     17\u001b[0m     \u001b[0mread_exception\u001b[0m\u001b[1;33m(\u001b[0m\u001b[1;33m)\u001b[0m\u001b[1;33m\u001b[0m\u001b[0m\n\u001b[0;32m     18\u001b[0m \u001b[1;33m\u001b[0m\u001b[0m\n\u001b[1;32m---> 19\u001b[1;33m \u001b[0mmain\u001b[0m\u001b[1;33m(\u001b[0m\u001b[1;33m)\u001b[0m\u001b[1;33m\u001b[0m\u001b[0m\n\u001b[0m",
      "\u001b[1;32m<ipython-input-1-9e0f1d219803>\u001b[0m in \u001b[0;36mmain\u001b[1;34m()\u001b[0m\n\u001b[0;32m     15\u001b[0m \u001b[1;33m\u001b[0m\u001b[0m\n\u001b[0;32m     16\u001b[0m     \u001b[0mprint\u001b[0m\u001b[1;33m(\u001b[0m\u001b[1;34m\"=== second read ===\"\u001b[0m\u001b[1;33m)\u001b[0m\u001b[1;33m\u001b[0m\u001b[0m\n\u001b[1;32m---> 17\u001b[1;33m     \u001b[0mread_exception\u001b[0m\u001b[1;33m(\u001b[0m\u001b[1;33m)\u001b[0m\u001b[1;33m\u001b[0m\u001b[0m\n\u001b[0m\u001b[0;32m     18\u001b[0m \u001b[1;33m\u001b[0m\u001b[0m\n\u001b[0;32m     19\u001b[0m \u001b[0mmain\u001b[0m\u001b[1;33m(\u001b[0m\u001b[1;33m)\u001b[0m\u001b[1;33m\u001b[0m\u001b[0m\n",
      "\u001b[1;32m<ipython-input-1-9e0f1d219803>\u001b[0m in \u001b[0;36mread_exception\u001b[1;34m()\u001b[0m\n\u001b[0;32m      6\u001b[0m \u001b[1;33m\u001b[0m\u001b[0m\n\u001b[0;32m      7\u001b[0m \u001b[1;32mdef\u001b[0m \u001b[0mread_exception\u001b[0m\u001b[1;33m(\u001b[0m\u001b[1;33m)\u001b[0m\u001b[1;33m:\u001b[0m\u001b[1;33m\u001b[0m\u001b[0m\n\u001b[1;32m----> 8\u001b[1;33m     \u001b[0mprint\u001b[0m\u001b[1;33m(\u001b[0m\u001b[0mmsg\u001b[0m\u001b[1;33m)\u001b[0m\u001b[1;33m\u001b[0m\u001b[0m\n\u001b[0m\u001b[0;32m      9\u001b[0m     \u001b[0mmsg\u001b[0m \u001b[1;33m=\u001b[0m \u001b[1;34m\"What\"\u001b[0m\u001b[1;33m\u001b[0m\u001b[0m\n\u001b[0;32m     10\u001b[0m     \u001b[0mprint\u001b[0m\u001b[1;33m(\u001b[0m\u001b[0mmsg\u001b[0m\u001b[1;33m)\u001b[0m\u001b[1;33m\u001b[0m\u001b[0m\n",
      "\u001b[1;31mUnboundLocalError\u001b[0m: local variable 'msg' referenced before assignment"
     ]
    }
   ],
   "source": [
    "msg = \"Hello\"\n",
    "\n",
    "def read_work():\n",
    "    print(msg)\n",
    "    print(\"What\")\n",
    "    \n",
    "def read_exception():\n",
    "    print(msg)\n",
    "    msg = \"What\"\n",
    "    print(msg)\n",
    "    \n",
    "def main():\n",
    "    print(\"=== firtst read ===\")\n",
    "    read_work()\n",
    "    \n",
    "    print(\"=== second read ===\")\n",
    "    read_exception()\n",
    "    \n",
    "main()"
   ]
  },
  {
   "cell_type": "markdown",
   "metadata": {},
   "source": [
    "#### 왜 Error?   \n",
    "- 9번째 줄에서 사용된 msg 변수 때문.   \n",
    "9번째 줄에서 전역변수 msg의 값을 변경한 것이 아닌, 지역변수 msg를 선언.   \n",
    "8번째 줄에서 지역변수 msg의 print()수행이 변수의 선언보다 먼저 일어났다고 판단하여 오류 발생.   \n",
    "파이썬이 변수 msg를 전역변수가 아닌 지역변수로 판단한 것."
   ]
  },
  {
   "cell_type": "markdown",
   "metadata": {},
   "source": [
    "### Global"
   ]
  },
  {
   "cell_type": "markdown",
   "metadata": {},
   "source": [
    "**global** 키워드는 지역(?)에서 전역 변수를 사용할 수 있게 해준다. (지역구에서 전국구 형님을 부를 수 있다!)"
   ]
  },
  {
   "cell_type": "code",
   "execution_count": 2,
   "metadata": {},
   "outputs": [
    {
     "name": "stdout",
     "output_type": "stream",
     "text": [
      "=== firtst read ===\n",
      "Hello\n",
      "What\n",
      "=== second read ===\n",
      "Hello\n",
      "What\n"
     ]
    }
   ],
   "source": [
    "msg = \"Hello\"\n",
    "\n",
    "def read_work():\n",
    "    print(msg)\n",
    "    print(\"What\")\n",
    "    \n",
    "def read_exception():\n",
    "    global msg\n",
    "    print(msg)\n",
    "    msg = \"What\"\n",
    "    print(msg)\n",
    "    \n",
    "def main():\n",
    "    print(\"=== firtst read ===\")\n",
    "    read_work()\n",
    "    \n",
    "    print(\"=== second read ===\")\n",
    "    read_exception()\n",
    "    \n",
    "main()"
   ]
  },
  {
   "cell_type": "markdown",
   "metadata": {},
   "source": [
    "### Nonlocal"
   ]
  },
  {
   "cell_type": "markdown",
   "metadata": {},
   "source": [
    "**nonlocal** 키워드는 'Nested function'(중첩함수, 함수가 중첩되어 있는 것)에서 상위 함수의 변수를 사용할 수 있게 해준다."
   ]
  },
  {
   "cell_type": "code",
   "execution_count": 8,
   "metadata": {},
   "outputs": [
    {
     "name": "stdout",
     "output_type": "stream",
     "text": [
      "Hello Python\n"
     ]
    }
   ],
   "source": [
    "def greeting(name):\n",
    "    greeting_msg = \"Hello \"\n",
    "    \n",
    "    def add_name():\n",
    "        return f'{greeting_msg}{name}'\n",
    "    \n",
    "    msg = add_name()\n",
    "    print(msg)\n",
    "    \n",
    "\n",
    "greeting(\"Python\")"
   ]
  },
  {
   "cell_type": "code",
   "execution_count": 9,
   "metadata": {},
   "outputs": [
    {
     "ename": "UnboundLocalError",
     "evalue": "local variable 'greeting_msg' referenced before assignment",
     "output_type": "error",
     "traceback": [
      "\u001b[1;31m---------------------------------------------------------------------------\u001b[0m",
      "\u001b[1;31mUnboundLocalError\u001b[0m                         Traceback (most recent call last)",
      "\u001b[1;32m<ipython-input-9-04619847a977>\u001b[0m in \u001b[0;36m<module>\u001b[1;34m()\u001b[0m\n\u001b[0;32m     10\u001b[0m \u001b[1;33m\u001b[0m\u001b[0m\n\u001b[0;32m     11\u001b[0m \u001b[1;33m\u001b[0m\u001b[0m\n\u001b[1;32m---> 12\u001b[1;33m \u001b[0mgreeting\u001b[0m\u001b[1;33m(\u001b[0m\u001b[1;34m\"Python\"\u001b[0m\u001b[1;33m)\u001b[0m\u001b[1;33m\u001b[0m\u001b[0m\n\u001b[0m",
      "\u001b[1;32m<ipython-input-9-04619847a977>\u001b[0m in \u001b[0;36mgreeting\u001b[1;34m(name)\u001b[0m\n\u001b[0;32m      6\u001b[0m         \u001b[1;32mreturn\u001b[0m \u001b[1;34mf'{greeting_msg}{name}'\u001b[0m\u001b[1;33m\u001b[0m\u001b[0m\n\u001b[0;32m      7\u001b[0m \u001b[1;33m\u001b[0m\u001b[0m\n\u001b[1;32m----> 8\u001b[1;33m     \u001b[0mmsg\u001b[0m \u001b[1;33m=\u001b[0m \u001b[0madd_name\u001b[0m\u001b[1;33m(\u001b[0m\u001b[1;33m)\u001b[0m\u001b[1;33m\u001b[0m\u001b[0m\n\u001b[0m\u001b[0;32m      9\u001b[0m     \u001b[0mprint\u001b[0m\u001b[1;33m(\u001b[0m\u001b[0mmsg\u001b[0m\u001b[1;33m)\u001b[0m\u001b[1;33m\u001b[0m\u001b[0m\n\u001b[0;32m     10\u001b[0m \u001b[1;33m\u001b[0m\u001b[0m\n",
      "\u001b[1;32m<ipython-input-9-04619847a977>\u001b[0m in \u001b[0;36madd_name\u001b[1;34m()\u001b[0m\n\u001b[0;32m      3\u001b[0m \u001b[1;33m\u001b[0m\u001b[0m\n\u001b[0;32m      4\u001b[0m     \u001b[1;32mdef\u001b[0m \u001b[0madd_name\u001b[0m\u001b[1;33m(\u001b[0m\u001b[1;33m)\u001b[0m\u001b[1;33m:\u001b[0m\u001b[1;33m\u001b[0m\u001b[0m\n\u001b[1;32m----> 5\u001b[1;33m         \u001b[0mgreeting_msg\u001b[0m \u001b[1;33m+=\u001b[0m \u001b[1;34m\" \"\u001b[0m\u001b[1;33m\u001b[0m\u001b[0m\n\u001b[0m\u001b[0;32m      6\u001b[0m         \u001b[1;32mreturn\u001b[0m \u001b[1;34mf'{greeting_msg}{name}'\u001b[0m\u001b[1;33m\u001b[0m\u001b[0m\n\u001b[0;32m      7\u001b[0m \u001b[1;33m\u001b[0m\u001b[0m\n",
      "\u001b[1;31mUnboundLocalError\u001b[0m: local variable 'greeting_msg' referenced before assignment"
     ]
    }
   ],
   "source": [
    "def greeting(name):\n",
    "    greeting_msg = \"Hello\"\n",
    "    \n",
    "    def add_name():\n",
    "        greeting_msg += \" \"\n",
    "        return f'{greeting_msg}{name}'\n",
    "    \n",
    "    msg = add_name()\n",
    "    print(msg)\n",
    "    \n",
    "\n",
    "greeting(\"Python\")"
   ]
  },
  {
   "cell_type": "code",
   "execution_count": 10,
   "metadata": {},
   "outputs": [
    {
     "name": "stdout",
     "output_type": "stream",
     "text": [
      "Hello Python\n"
     ]
    }
   ],
   "source": [
    "def greeting(name):\n",
    "    greeting_msg = \"Hello\"\n",
    "    \n",
    "    def add_name():\n",
    "        nonlocal greeting_msg\n",
    "        greeting_msg += \" \"\n",
    "        return f'{greeting_msg}{name}'\n",
    "    \n",
    "    msg = add_name()\n",
    "    print(msg)\n",
    "    \n",
    "\n",
    "greeting(\"Python\")"
   ]
  },
  {
   "cell_type": "markdown",
   "metadata": {},
   "source": [
    "### Variable Shadowing"
   ]
  },
  {
   "cell_type": "markdown",
   "metadata": {},
   "source": [
    "\\- 전역 변수나 상위 변수를 지역 변수나 멤버 변수로 가려(숨겨)버리는 것."
   ]
  },
  {
   "cell_type": "code",
   "execution_count": 11,
   "metadata": {},
   "outputs": [
    {
     "name": "stdout",
     "output_type": "stream",
     "text": [
      "Scope of inner_function: inner\n",
      "Scope of outer_function: outer\n",
      "Global scope: global\n"
     ]
    }
   ],
   "source": [
    "var_shadowing = \"global\"\n",
    "\n",
    "def outer_function():\n",
    "    var_shadowing = \"outer\"\n",
    "    \n",
    "    def inner_function():\n",
    "        var_shadowing = \"inner\"\n",
    "        print(f'Scope of inner_function: {var_shadowing}')\n",
    "        \n",
    "    inner_function()\n",
    "    print(f'Scope of outer_function: {var_shadowing}')\n",
    "    \n",
    "    \n",
    "if __name__ == \"__main__\":\n",
    "    outer_function()\n",
    "    print(f'Global scope: {var_shadowing}')"
   ]
  },
  {
   "cell_type": "markdown",
   "metadata": {},
   "source": [
    "### Free variable"
   ]
  },
  {
   "cell_type": "markdown",
   "metadata": {},
   "source": [
    "**Free variable**이란 코드에서 사용됐지만 정의되지 않은 변수를 나타내는 용어이다.   \n",
    "=> 함수 내부에서 사용됐지만 함수 내에는 정의되어 있지 않은 변수.   \n",
    "   \n",
    "파이썬에서는 **nonlocal** 키워드로 사용한 변수를 free variable 이라고 지칭할 수 있다.   \n",
    "지역변수도 아니고 전역변수도 아니지만, 사용할 수 있는 변수를 말한다."
   ]
  },
  {
   "cell_type": "markdown",
   "metadata": {},
   "source": [
    "<br>"
   ]
  },
  {
   "cell_type": "markdown",
   "metadata": {},
   "source": [
    "## First-Class"
   ]
  },
  {
   "cell_type": "markdown",
   "metadata": {},
   "source": [
    "## Higher-Order Function"
   ]
  },
  {
   "cell_type": "markdown",
   "metadata": {},
   "source": [
    "## Nested function"
   ]
  },
  {
   "cell_type": "code",
   "execution_count": null,
   "metadata": {},
   "outputs": [],
   "source": []
  }
 ],
 "metadata": {
  "kernelspec": {
   "display_name": "Python 3",
   "language": "python",
   "name": "python3"
  },
  "language_info": {
   "codemirror_mode": {
    "name": "ipython",
    "version": 3
   },
   "file_extension": ".py",
   "mimetype": "text/x-python",
   "name": "python",
   "nbconvert_exporter": "python",
   "pygments_lexer": "ipython3",
   "version": "3.6.6"
  }
 },
 "nbformat": 4,
 "nbformat_minor": 2
}
